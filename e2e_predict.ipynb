{
 "cells": [
  {
   "cell_type": "code",
   "execution_count": 1,
   "metadata": {},
   "outputs": [
    {
     "name": "stderr",
     "output_type": "stream",
     "text": [
      "/opt/conda/envs/paddle/lib/python3.7/site-packages/skimage/morphology/_skeletonize.py:241: DeprecationWarning: `np.bool` is a deprecated alias for the builtin `bool`. To silence this warning, use `bool` by itself. Doing this will not modify any behavior and is safe. If you specifically wanted the numpy scalar type, use `np.bool_` here.\n",
      "Deprecated in NumPy 1.20; for more details and guidance: https://numpy.org/devdocs/release/1.20.0-notes.html#deprecations\n",
      "  0, 1, 1, 0, 0, 1, 0, 0, 0], dtype=np.bool)\n",
      "/opt/conda/envs/paddle/lib/python3.7/site-packages/skimage/morphology/_skeletonize.py:256: DeprecationWarning: `np.bool` is a deprecated alias for the builtin `bool`. To silence this warning, use `bool` by itself. Doing this will not modify any behavior and is safe. If you specifically wanted the numpy scalar type, use `np.bool_` here.\n",
      "Deprecated in NumPy 1.20; for more details and guidance: https://numpy.org/devdocs/release/1.20.0-notes.html#deprecations\n",
      "  0, 0, 0, 0, 0, 0, 0, 0, 0], dtype=np.bool)\n"
     ]
    }
   ],
   "source": [
    "import os\n",
    "import cv2\n",
    "import numpy as np\n",
    "import pandas as pd\n",
    "import time\n",
    "import yaml\n",
    "from glob import glob\n",
    "from tqdm import tqdm\n",
    "import matplotlib.pyplot as plt\n",
    "\n",
    "import sys\n",
    "import gc\n",
    "sys.path.append(os.path.abspath(os.path.join(os.getcwd(), '/workspace/PaddleOCR/')))\n",
    "import tools.infer.utility as utility\n",
    "from ppocr.utils.logging import get_logger\n",
    "from tools.infer.utility import init_args, parse_args\n",
    "from paddleocr import PaddleOCR, draw_ocr\n",
    "\n",
    "import sys\n",
    "sys.path.append(os.path.abspath(os.path.join(os.getcwd(), '/workspace/csc_competition/')))\n",
    "from det_pred import TextDetector, mult2point, four_point_transform\n",
    "from rec_pred import Paddlepreditor,yi_merge"
   ]
  },
  {
   "cell_type": "code",
   "execution_count": 3,
   "metadata": {},
   "outputs": [],
   "source": [
    "det_inference_path = '/workspace/PaddleOCR/inference/det_db_1220_th01/Student2/'\n",
    "rec_inference_path = '/workspace/PaddleOCR/inference/rec_1223/'"
   ]
  },
  {
   "cell_type": "code",
   "execution_count": 4,
   "metadata": {},
   "outputs": [],
   "source": [
    "def order_points(pts):\n",
    "\t# initialize a list of coordinates that will be ordered\n",
    "\t# such that the first entry in the list is the top-left,\n",
    "\t# the second entry is the top-right, the third is the\n",
    "\t# bottom-right, and the fourth is the bottom-left\n",
    "\trect = np.zeros((4, 2), dtype=\"float32\")\n",
    "\t# the top-left point will have the smallest sum, whereas\n",
    "\t# the bottom-right point will have the largest sum\n",
    "\ts = pts.sum(axis=1)\n",
    "\trect[0] = pts[np.argmin(s)]\n",
    "\trect[2] = pts[np.argmax(s)]\n",
    "\t# now, compute the difference between the points, the\n",
    "\t# top-right point will have the smallest difference,\n",
    "\t# whereas the bottom-left will have the largest difference\n",
    "\tdiff = np.diff(pts, axis=1)\n",
    "\trect[1] = pts[np.argmin(diff)]\n",
    "\trect[3] = pts[np.argmax(diff)]\n",
    "\t# return the ordered coordinates\n",
    "\treturn rect"
   ]
  },
  {
   "cell_type": "markdown",
   "metadata": {},
   "source": [
    "## load model"
   ]
  },
  {
   "cell_type": "code",
   "execution_count": 5,
   "metadata": {},
   "outputs": [
    {
     "name": "stdout",
     "output_type": "stream",
     "text": [
      "Namespace(benchmark=False, cls_batch_num=6, cls_image_shape='3, 48, 192', cls_model_dir='/root/.paddleocr/2.2.0.1/ocr/cls/ch_ppocr_mobile_v2.0_cls_infer', cls_thresh=0.9, cpu_threads=10, det=True, det_algorithm='DB', det_db_box_thresh=0.6, det_db_score_mode='fast', det_db_thresh=0.008, det_db_unclip_ratio=1.5, det_east_cover_thresh=0.1, det_east_nms_thresh=0.2, det_east_score_thresh=0.8, det_limit_side_len=960, det_limit_type='max', det_model_dir='/workspace/PaddleOCR/inference/det_db_1220_th01/Student2/', det_sast_nms_thresh=0.2, det_sast_polygon=False, det_sast_score_thresh=0.5, drop_score=0.5, e2e_algorithm='PGNet', e2e_char_dict_path='./ppocr/utils/ic15_dict.txt', e2e_limit_side_len=768, e2e_limit_type='max', e2e_model_dir=None, e2e_pgnet_mode='fast', e2e_pgnet_polygon=True, e2e_pgnet_score_thresh=0.5, e2e_pgnet_valid_set='totaltext', enable_mkldnn=False, gpu_mem=500, help='==SUPPRESS==', image_dir=None, ir_optim=True, label_list=['0', '180'], lang='chinese_cht', layout_path_model='lp://PubLayNet/ppyolov2_r50vd_dcn_365e_publaynet/config', max_batch_size=10, max_text_length=25, min_subgraph_size=10, output='./output/table', precision='fp32', process_id=0, rec=True, rec_algorithm='CRNN', rec_batch_num=6, rec_char_dict_path='/workspace/PaddleOCR/ppocr/utils/dict/cht_dict.txt', rec_char_type='ch', rec_image_shape='3, 32, 320', rec_model_dir='/workspace/PaddleOCR/inference/rec_1223/', save_log_path='./log_output/', show_log=False, table_char_dict_path=None, table_char_type='en', table_max_len=488, table_model_dir=None, total_process_num=1, type='ocr', use_angle_cls=True, use_dilation=False, use_gpu=True, use_mp=False, use_pdserving=False, use_space_char=True, use_tensorrt=False, version='PP-OCR', vis_font_path='./doc/fonts/simfang.ttf', warmup=True)\n"
     ]
    },
    {
     "name": "stderr",
     "output_type": "stream",
     "text": [
      "W1228 14:28:45.128319 1540782 analysis_predictor.cc:715] The one-time configuration of analysis predictor failed, which may be due to native predictor called first and its configurations taken effect.\n",
      "\u001b[1m\u001b[35m--- Running analysis [ir_graph_build_pass]\u001b[0m\n",
      "\u001b[1m\u001b[35m--- Running analysis [ir_graph_clean_pass]\u001b[0m\n",
      "\u001b[1m\u001b[35m--- Running analysis [ir_analysis_pass]\u001b[0m\n",
      "\u001b[32m--- Running IR pass [is_test_pass]\u001b[0m\n",
      "\u001b[32m--- Running IR pass [simplify_with_basic_ops_pass]\u001b[0m\n",
      "\u001b[32m--- Running IR pass [conv_affine_channel_fuse_pass]\u001b[0m\n",
      "\u001b[32m--- Running IR pass [conv_eltwiseadd_affine_channel_fuse_pass]\u001b[0m\n",
      "\u001b[32m--- Running IR pass [conv_bn_fuse_pass]\u001b[0m\n",
      "I1228 14:28:45.291926 1540782 graph_pattern_detector.cc:91] ---  detected 33 subgraphs\n",
      "\u001b[32m--- Running IR pass [conv_eltwiseadd_bn_fuse_pass]\u001b[0m\n",
      "\u001b[32m--- Running IR pass [embedding_eltwise_layernorm_fuse_pass]\u001b[0m\n",
      "\u001b[32m--- Running IR pass [multihead_matmul_fuse_pass_v2]\u001b[0m\n",
      "\u001b[32m--- Running IR pass [squeeze2_matmul_fuse_pass]\u001b[0m\n",
      "\u001b[32m--- Running IR pass [reshape2_matmul_fuse_pass]\u001b[0m\n",
      "\u001b[32m--- Running IR pass [flatten2_matmul_fuse_pass]\u001b[0m\n",
      "\u001b[32m--- Running IR pass [map_matmul_to_mul_pass]\u001b[0m\n",
      "\u001b[32m--- Running IR pass [fc_fuse_pass]\u001b[0m\n",
      "\u001b[32m--- Running IR pass [fc_elementwise_layernorm_fuse_pass]\u001b[0m\n",
      "\u001b[32m--- Running IR pass [conv_elementwise_add_act_fuse_pass]\u001b[0m\n",
      "I1228 14:28:45.318122 1540782 graph_pattern_detector.cc:91] ---  detected 7 subgraphs\n",
      "\u001b[32m--- Running IR pass [conv_elementwise_add2_act_fuse_pass]\u001b[0m\n",
      "\u001b[32m--- Running IR pass [conv_elementwise_add_fuse_pass]\u001b[0m\n",
      "I1228 14:28:45.328339 1540782 graph_pattern_detector.cc:91] ---  detected 26 subgraphs\n",
      "\u001b[32m--- Running IR pass [transpose_flatten_concat_fuse_pass]\u001b[0m\n",
      "\u001b[32m--- Running IR pass [runtime_context_cache_pass]\u001b[0m\n",
      "\u001b[1m\u001b[35m--- Running analysis [ir_params_sync_among_devices_pass]\u001b[0m\n",
      "I1228 14:28:45.341387 1540782 ir_params_sync_among_devices_pass.cc:45] Sync params from CPU to GPU\n",
      "\u001b[1m\u001b[35m--- Running analysis [adjust_cudnn_workspace_size_pass]\u001b[0m\n",
      "\u001b[1m\u001b[35m--- Running analysis [inference_op_replace_pass]\u001b[0m\n",
      "\u001b[1m\u001b[35m--- Running analysis [memory_optimize_pass]\u001b[0m\n",
      "I1228 14:28:45.355319 1540782 memory_optimize_pass.cc:199] Cluster name : x  size: 12\n",
      "I1228 14:28:45.355330 1540782 memory_optimize_pass.cc:199] Cluster name : elementwise_add_29  size: 224\n",
      "I1228 14:28:45.355334 1540782 memory_optimize_pass.cc:199] Cluster name : conv2d_255.tmp_0  size: 384\n",
      "I1228 14:28:45.355338 1540782 memory_optimize_pass.cc:199] Cluster name : batch_norm_122.tmp_1  size: 1920\n",
      "I1228 14:28:45.355342 1540782 memory_optimize_pass.cc:199] Cluster name : elementwise_add_25  size: 96\n",
      "I1228 14:28:45.355346 1540782 memory_optimize_pass.cc:199] Cluster name : hardswish_35.tmp_0  size: 1920\n",
      "I1228 14:28:45.355350 1540782 memory_optimize_pass.cc:199] Cluster name : batch_norm_122.tmp_0  size: 1920\n",
      "I1228 14:28:45.355353 1540782 memory_optimize_pass.cc:199] Cluster name : elementwise_add_23  size: 64\n",
      "I1228 14:28:45.355357 1540782 memory_optimize_pass.cc:199] Cluster name : tmp_8  size: 384\n",
      "I1228 14:28:45.355360 1540782 memory_optimize_pass.cc:199] Cluster name : depthwise_conv2d_29.tmp_0  size: 1920\n",
      "\u001b[1m\u001b[35m--- Running analysis [ir_graph_to_program_pass]\u001b[0m\n",
      "I1228 14:28:45.400727 1540782 analysis_predictor.cc:636] ======= optimize end =======\n",
      "I1228 14:28:45.402420 1540782 naive_executor.cc:98] ---  skip [feed], feed -> x\n",
      "I1228 14:28:45.404927 1540782 naive_executor.cc:98] ---  skip [batch_norm_122.tmp_1], fetch -> fetch\n",
      "\u001b[1m\u001b[35m--- Running analysis [ir_graph_build_pass]\u001b[0m\n",
      "\u001b[1m\u001b[35m--- Running analysis [ir_graph_clean_pass]\u001b[0m\n",
      "\u001b[1m\u001b[35m--- Running analysis [ir_analysis_pass]\u001b[0m\n",
      "\u001b[32m--- Running IR pass [is_test_pass]\u001b[0m\n",
      "\u001b[32m--- Running IR pass [simplify_with_basic_ops_pass]\u001b[0m\n",
      "\u001b[32m--- Running IR pass [conv_affine_channel_fuse_pass]\u001b[0m\n",
      "\u001b[32m--- Running IR pass [conv_eltwiseadd_affine_channel_fuse_pass]\u001b[0m\n",
      "\u001b[32m--- Running IR pass [conv_bn_fuse_pass]\u001b[0m\n",
      "I1228 14:28:45.542600 1540782 graph_pattern_detector.cc:91] ---  detected 24 subgraphs\n",
      "\u001b[32m--- Running IR pass [conv_eltwiseadd_bn_fuse_pass]\u001b[0m\n",
      "\u001b[32m--- Running IR pass [embedding_eltwise_layernorm_fuse_pass]\u001b[0m\n",
      "\u001b[32m--- Running IR pass [multihead_matmul_fuse_pass_v2]\u001b[0m\n",
      "\u001b[32m--- Running IR pass [squeeze2_matmul_fuse_pass]\u001b[0m\n",
      "\u001b[32m--- Running IR pass [reshape2_matmul_fuse_pass]\u001b[0m\n",
      "\u001b[32m--- Running IR pass [flatten2_matmul_fuse_pass]\u001b[0m\n",
      "\u001b[32m--- Running IR pass [map_matmul_to_mul_pass]\u001b[0m\n",
      "I1228 14:28:45.556530 1540782 graph_pattern_detector.cc:91] ---  detected 1 subgraphs\n",
      "\u001b[32m--- Running IR pass [fc_fuse_pass]\u001b[0m\n",
      "I1228 14:28:45.557837 1540782 graph_pattern_detector.cc:91] ---  detected 1 subgraphs\n",
      "\u001b[32m--- Running IR pass [fc_elementwise_layernorm_fuse_pass]\u001b[0m\n",
      "\u001b[32m--- Running IR pass [conv_elementwise_add_act_fuse_pass]\u001b[0m\n",
      "I1228 14:28:45.564118 1540782 graph_pattern_detector.cc:91] ---  detected 12 subgraphs\n",
      "\u001b[32m--- Running IR pass [conv_elementwise_add2_act_fuse_pass]\u001b[0m\n",
      "\u001b[32m--- Running IR pass [conv_elementwise_add_fuse_pass]\u001b[0m\n",
      "I1228 14:28:45.573015 1540782 graph_pattern_detector.cc:91] ---  detected 30 subgraphs\n",
      "\u001b[32m--- Running IR pass [transpose_flatten_concat_fuse_pass]\u001b[0m\n",
      "\u001b[32m--- Running IR pass [runtime_context_cache_pass]\u001b[0m\n",
      "\u001b[1m\u001b[35m--- Running analysis [ir_params_sync_among_devices_pass]\u001b[0m\n",
      "I1228 14:28:45.583935 1540782 ir_params_sync_among_devices_pass.cc:45] Sync params from CPU to GPU\n",
      "\u001b[1m\u001b[35m--- Running analysis [adjust_cudnn_workspace_size_pass]\u001b[0m\n",
      "\u001b[1m\u001b[35m--- Running analysis [inference_op_replace_pass]\u001b[0m\n",
      "\u001b[1m\u001b[35m--- Running analysis [memory_optimize_pass]\u001b[0m\n",
      "I1228 14:28:45.595953 1540782 memory_optimize_pass.cc:199] Cluster name : lstm_0._generated_var_0  size: 1\n",
      "I1228 14:28:45.595963 1540782 memory_optimize_pass.cc:199] Cluster name : x  size: 384\n",
      "I1228 14:28:45.595965 1540782 memory_optimize_pass.cc:199] Cluster name : batch_norm_12.tmp_3  size: 384\n",
      "I1228 14:28:45.595968 1540782 memory_optimize_pass.cc:199] Cluster name : linear_1.tmp_1  size: 32872\n",
      "I1228 14:28:45.595970 1540782 memory_optimize_pass.cc:199] Cluster name : lstm_0.tmp_3  size: 1\n",
      "I1228 14:28:45.595973 1540782 memory_optimize_pass.cc:199] Cluster name : softmax_0.tmp_0  size: 32872\n",
      "I1228 14:28:45.595975 1540782 memory_optimize_pass.cc:199] Cluster name : lstm_0.tmp_2  size: 768\n",
      "I1228 14:28:45.595978 1540782 memory_optimize_pass.cc:199] Cluster name : depthwise_conv2d_5.tmp_0  size: 1920\n",
      "I1228 14:28:45.595981 1540782 memory_optimize_pass.cc:199] Cluster name : batch_norm_32.tmp_0  size: 1152\n",
      "\u001b[1m\u001b[35m--- Running analysis [ir_graph_to_program_pass]\u001b[0m\n",
      "I1228 14:28:45.631418 1540782 analysis_predictor.cc:636] ======= optimize end =======\n",
      "I1228 14:28:45.632820 1540782 naive_executor.cc:98] ---  skip [feed], feed -> x\n",
      "I1228 14:28:45.634711 1540782 naive_executor.cc:98] ---  skip [linear_1.tmp_1], fetch -> fetch\n",
      "\u001b[1m\u001b[35m--- Running analysis [ir_graph_build_pass]\u001b[0m\n",
      "\u001b[1m\u001b[35m--- Running analysis [ir_graph_clean_pass]\u001b[0m\n",
      "\u001b[1m\u001b[35m--- Running analysis [ir_analysis_pass]\u001b[0m\n",
      "\u001b[32m--- Running IR pass [is_test_pass]\u001b[0m\n",
      "\u001b[32m--- Running IR pass [simplify_with_basic_ops_pass]\u001b[0m\n",
      "\u001b[32m--- Running IR pass [conv_affine_channel_fuse_pass]\u001b[0m\n",
      "\u001b[32m--- Running IR pass [conv_eltwiseadd_affine_channel_fuse_pass]\u001b[0m\n",
      "\u001b[32m--- Running IR pass [conv_bn_fuse_pass]\u001b[0m\n",
      "I1228 14:28:45.729331 1540782 graph_pattern_detector.cc:91] ---  detected 24 subgraphs\n",
      "\u001b[32m--- Running IR pass [conv_eltwiseadd_bn_fuse_pass]\u001b[0m\n",
      "\u001b[32m--- Running IR pass [embedding_eltwise_layernorm_fuse_pass]\u001b[0m\n",
      "\u001b[32m--- Running IR pass [multihead_matmul_fuse_pass_v2]\u001b[0m\n",
      "\u001b[32m--- Running IR pass [squeeze2_matmul_fuse_pass]\u001b[0m\n",
      "\u001b[32m--- Running IR pass [reshape2_matmul_fuse_pass]\u001b[0m\n",
      "I1228 14:28:45.744807 1540782 graph_pattern_detector.cc:91] ---  detected 1 subgraphs\n",
      "\u001b[32m--- Running IR pass [flatten2_matmul_fuse_pass]\u001b[0m\n",
      "\u001b[32m--- Running IR pass [map_matmul_to_mul_pass]\u001b[0m\n",
      "I1228 14:28:45.746452 1540782 graph_pattern_detector.cc:91] ---  detected 1 subgraphs\n",
      "\u001b[32m--- Running IR pass [fc_fuse_pass]\u001b[0m\n",
      "I1228 14:28:45.748051 1540782 graph_pattern_detector.cc:91] ---  detected 1 subgraphs\n",
      "\u001b[32m--- Running IR pass [fc_elementwise_layernorm_fuse_pass]\u001b[0m\n",
      "\u001b[32m--- Running IR pass [conv_elementwise_add_act_fuse_pass]\u001b[0m\n",
      "I1228 14:28:45.755681 1540782 graph_pattern_detector.cc:91] ---  detected 12 subgraphs\n",
      "\u001b[32m--- Running IR pass [conv_elementwise_add2_act_fuse_pass]\u001b[0m\n",
      "\u001b[32m--- Running IR pass [conv_elementwise_add_fuse_pass]\u001b[0m\n",
      "I1228 14:28:45.766418 1540782 graph_pattern_detector.cc:91] ---  detected 30 subgraphs\n",
      "\u001b[32m--- Running IR pass [transpose_flatten_concat_fuse_pass]\u001b[0m\n",
      "\u001b[32m--- Running IR pass [runtime_context_cache_pass]\u001b[0m\n",
      "\u001b[1m\u001b[35m--- Running analysis [ir_params_sync_among_devices_pass]\u001b[0m\n",
      "I1228 14:28:45.778530 1540782 ir_params_sync_among_devices_pass.cc:45] Sync params from CPU to GPU\n",
      "\u001b[1m\u001b[35m--- Running analysis [adjust_cudnn_workspace_size_pass]\u001b[0m\n",
      "\u001b[1m\u001b[35m--- Running analysis [inference_op_replace_pass]\u001b[0m\n",
      "\u001b[1m\u001b[35m--- Running analysis [memory_optimize_pass]\u001b[0m\n",
      "I1228 14:28:45.787751 1540782 memory_optimize_pass.cc:199] Cluster name : batch_norm_12.tmp_2  size: 6400\n",
      "I1228 14:28:45.787761 1540782 memory_optimize_pass.cc:199] Cluster name : batch_norm_25.tmp_2  size: 41600\n",
      "I1228 14:28:45.787765 1540782 memory_optimize_pass.cc:199] Cluster name : batch_norm_29.tmp_2  size: 40000\n",
      "I1228 14:28:45.787768 1540782 memory_optimize_pass.cc:199] Cluster name : hard_swish_11.tmp_0  size: 41600\n",
      "I1228 14:28:45.787772 1540782 memory_optimize_pass.cc:199] Cluster name : elementwise_add_1  size: 6400\n",
      "I1228 14:28:45.787775 1540782 memory_optimize_pass.cc:199] Cluster name : x  size: 38400\n",
      "\u001b[1m\u001b[35m--- Running analysis [ir_graph_to_program_pass]\u001b[0m\n",
      "I1228 14:28:45.829298 1540782 analysis_predictor.cc:636] ======= optimize end =======\n",
      "I1228 14:28:45.830840 1540782 naive_executor.cc:98] ---  skip [feed], feed -> x\n",
      "I1228 14:28:45.833211 1540782 naive_executor.cc:98] ---  skip [batch_norm_25.tmp_2], fetch -> fetch\n"
     ]
    }
   ],
   "source": [
    "from paddleocr import PaddleOCR, draw_ocr\n",
    "# 模型路径下必须含有model和params文件\n",
    "ocr = PaddleOCR(lang=\"chinese_cht\",\n",
    "                det_model_dir=det_inference_path,\n",
    "                det_db_thresh=0.008,\n",
    "                #cls_model_dir='/workspace/PaddleOCR/inference/csc_cls_mv3', \n",
    "                rec_model_dir=rec_inference_path,  \n",
    "                rec_char_dict_path=\"/workspace/PaddleOCR/ppocr/utils/dict/cht_dict.txt\",\n",
    "                #vis_font_path=\"doc/fonts/chinese_cht.ttf\"\n",
    "                use_angle_cls=True,\n",
    "                version='PP-OCR', \n",
    "                show_log=False\n",
    "               )"
   ]
  },
  {
   "cell_type": "code",
   "execution_count": 6,
   "metadata": {},
   "outputs": [],
   "source": [
    "img_path='/workspace/text_spot_rec/data/public/img*'"
   ]
  },
  {
   "cell_type": "code",
   "execution_count": 835,
   "metadata": {},
   "outputs": [
    {
     "name": "stderr",
     "output_type": "stream",
     "text": [
      "100% 5500/5500 [21:44<00:00,  4.22it/s]\n"
     ]
    }
   ],
   "source": [
    "result=[]\n",
    "for file in tqdm(glob(img_path)):\n",
    "    x=ocr.ocr(file, det=True, rec=True, cls=True)\n",
    "    for i in x:\n",
    "        result.append([file.split('/')[-1].split('.')[0],\n",
    "                       i[0][0][0],i[0][0][1],i[0][1][0],i[0][1][1],\n",
    "                       i[0][2][0],i[0][2][1],i[0][3][0],i[0][3][1],\n",
    "                       i[1][0],i[1][1]])"
   ]
  },
  {
   "cell_type": "code",
   "execution_count": 843,
   "metadata": {},
   "outputs": [],
   "source": [
    "out=pd.DataFrame(result)"
   ]
  },
  {
   "cell_type": "code",
   "execution_count": 844,
   "metadata": {},
   "outputs": [],
   "source": [
    "out=out.sort_values(by=[0,1]).reset_index()"
   ]
  },
  {
   "cell_type": "code",
   "execution_count": 845,
   "metadata": {},
   "outputs": [],
   "source": [
    "out=out.drop(columns=['index'])"
   ]
  },
  {
   "cell_type": "code",
   "execution_count": 847,
   "metadata": {},
   "outputs": [],
   "source": [
    "out[1]=out[1].astype(int)\n",
    "out[2]=out[2].astype(int)\n",
    "out[3]=out[3].astype(int)\n",
    "out[4]=out[4].astype(int)\n",
    "out[5]=out[5].astype(int)\n",
    "out[6]=out[6].astype(int)\n",
    "out[7]=out[7].astype(int)\n",
    "out[8]=out[8].astype(int)"
   ]
  },
  {
   "cell_type": "code",
   "execution_count": 850,
   "metadata": {},
   "outputs": [],
   "source": [
    "out[11]=out[9].apply(lambda x: x.replace('@','').replace('-','').replace(':','').replace('.','').replace('+',''))"
   ]
  },
  {
   "cell_type": "code",
   "execution_count": 859,
   "metadata": {},
   "outputs": [],
   "source": [
    "out[[0,1,2,3,4,5,6,7,8,11]].to_csv('output_csv/e2e_rec_result.csv',index=False,header=None)"
   ]
  },
  {
   "cell_type": "code",
   "execution_count": null,
   "metadata": {},
   "outputs": [],
   "source": []
  }
 ],
 "metadata": {
  "kernelspec": {
   "display_name": "paddle",
   "language": "python",
   "name": "paddle"
  },
  "language_info": {
   "codemirror_mode": {
    "name": "ipython",
    "version": 3
   },
   "file_extension": ".py",
   "mimetype": "text/x-python",
   "name": "python",
   "nbconvert_exporter": "python",
   "pygments_lexer": "ipython3",
   "version": "3.7.11"
  }
 },
 "nbformat": 4,
 "nbformat_minor": 5
}
