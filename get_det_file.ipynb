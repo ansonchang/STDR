{
 "cells": [
  {
   "cell_type": "code",
   "execution_count": 1,
   "metadata": {},
   "outputs": [],
   "source": [
    "import json\n",
    "import sys\n",
    "import os\n",
    "import shutil\n",
    "import math\n",
    "import numpy as np\n",
    "import pandas as pd\n",
    "import numpy as np\n",
    "import cv2"
   ]
  },
  {
   "cell_type": "code",
   "execution_count": 2,
   "metadata": {},
   "outputs": [],
   "source": [
    "output=[]\n",
    "for file in os.listdir('/workspace/text_spot_rec/data/train/img'):\n",
    "    if file.split('.')[-1] =='jpg':\n",
    "        output.append(file)"
   ]
  },
  {
   "cell_type": "code",
   "execution_count": 3,
   "metadata": {},
   "outputs": [
    {
     "data": {
      "text/plain": [
       "15188"
      ]
     },
     "execution_count": 3,
     "metadata": {},
     "output_type": "execute_result"
    }
   ],
   "source": [
    "len(output)"
   ]
  },
  {
   "cell_type": "code",
   "execution_count": 4,
   "metadata": {},
   "outputs": [],
   "source": [
    "output2=[]\n",
    "for file in os.listdir('/workspace/text_spot_rec/data/train/json'):\n",
    "    if file.split('.')[-1] =='json':\n",
    "        output2.append(file)"
   ]
  },
  {
   "cell_type": "code",
   "execution_count": 5,
   "metadata": {},
   "outputs": [
    {
     "data": {
      "text/plain": [
       "15188"
      ]
     },
     "execution_count": 5,
     "metadata": {},
     "output_type": "execute_result"
    }
   ],
   "source": [
    "len(output2)"
   ]
  },
  {
   "cell_type": "code",
   "execution_count": 6,
   "metadata": {},
   "outputs": [],
   "source": [
    "Root_path='/workspace/text_spot_rec/'\n",
    "train_json_path = '/workspace/text_spot_rec/data/train/json/' \n",
    "train_img_path =  '/workspace/text_spot_rec/data/train/img/'\n",
    "#labelcsv='data/public_training_sample.csv'"
   ]
  },
  {
   "cell_type": "code",
   "execution_count": 8,
   "metadata": {},
   "outputs": [
    {
     "data": {
      "text/plain": [
       "13669"
      ]
     },
     "execution_count": 8,
     "metadata": {},
     "output_type": "execute_result"
    }
   ],
   "source": [
    "train_len=int(len(output2)*0.9)\n",
    "train_len"
   ]
  },
  {
   "cell_type": "code",
   "execution_count": 31,
   "metadata": {},
   "outputs": [],
   "source": [
    "rec_out=[]\n",
    "for file1 in output2:\n",
    "    with open(os.path.join(train_json_path+file1), 'r') as f:\n",
    "        data = json.load(f)\n",
    "        tmp=[]\n",
    "        for i in data['shapes']:\n",
    "            if i['group_id']!=1:\n",
    "                label=i['label']\n",
    "                if label=='':\n",
    "                    label='###' \n",
    "                dic ={\"transcription\": label,\"points\":i['points']}\n",
    "                tmp.append(json.dumps(dic,ensure_ascii=False))\n",
    "        tmp2=train_img_path+data['imagePath']+'\\t'+ str(tmp).replace(\"'\",\"\")\n",
    "        rec_out.append(tmp2)"
   ]
  },
  {
   "cell_type": "code",
   "execution_count": 32,
   "metadata": {},
   "outputs": [
    {
     "name": "stdout",
     "output_type": "stream",
     "text": [
      "the file is processed\n",
      "the file is processed\n"
     ]
    }
   ],
   "source": [
    "with open(Root_path+'data/train_label.txt', 'a+') as f:\n",
    "        f.write('\\n'.join(rec_out[0:train_len]))\n",
    "print('the file is processed')\n",
    "\n",
    "with open(Root_path+'data/test_label.txt', 'a+') as f:\n",
    "        f.write('\\n'.join(rec_out[train_len:]))\n",
    "print('the file is processed')"
   ]
  },
  {
   "cell_type": "code",
   "execution_count": null,
   "metadata": {},
   "outputs": [],
   "source": []
  }
 ],
 "metadata": {
  "kernelspec": {
   "display_name": "paddle",
   "language": "python",
   "name": "paddle"
  },
  "language_info": {
   "codemirror_mode": {
    "name": "ipython",
    "version": 3
   },
   "file_extension": ".py",
   "mimetype": "text/x-python",
   "name": "python",
   "nbconvert_exporter": "python",
   "pygments_lexer": "ipython3",
   "version": "3.7.11"
  }
 },
 "nbformat": 4,
 "nbformat_minor": 4
}
